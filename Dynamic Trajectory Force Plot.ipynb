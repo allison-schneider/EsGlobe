{
 "cells": [
  {
   "cell_type": "markdown",
   "metadata": {},
   "source": [
    "Import packages."
   ]
  },
  {
   "cell_type": "code",
   "execution_count": 39,
   "metadata": {
    "collapsed": true
   },
   "outputs": [],
   "source": [
    "import numpy as np\n",
    "import matplotlib.pyplot as plt\n",
    "from scipy.io import netcdf\n",
    "import scipy.interpolate\n",
    "from mpl_toolkits.basemap import Basemap"
   ]
  },
  {
   "cell_type": "markdown",
   "metadata": {},
   "source": [
    "Declare global variables."
   ]
  },
  {
   "cell_type": "code",
   "execution_count": 40,
   "metadata": {
    "collapsed": true
   },
   "outputs": [],
   "source": [
    "# Global variables\n",
    "EARTH_RADIUS = 6371e3    # meters\n",
    "OMEGA = 7.292e-5         # radians per second\n",
    "STANDARD_GRAVITY = 9.806 # meters per second squared\n",
    "RESOLUTION = 0.25        # Resolution in degrees per grid square to sample with     \n",
    "TIMESTEP = 90            # Timestep to sample with in seconds"
   ]
  },
  {
   "cell_type": "markdown",
   "metadata": {},
   "source": [
    "The Atmosphere class contains atmospheric parameters (u speed, v speed, geopotential height\n",
    "    gradient) for two time layers at a given time."
   ]
  },
  {
   "cell_type": "code",
   "execution_count": 41,
   "metadata": {
    "collapsed": true
   },
   "outputs": [],
   "source": [
    "class Atmosphere:\n",
    "    \"\"\" Contains atmospheric parameters (u speed, v speed, geopotential height\n",
    "    gradient) for two time layers at a given time.\n",
    "\n",
    "    hour -- The first layer time, a multiple of the interval between GFS files. \n",
    "    \"\"\"\n",
    "    def __init__(self,\n",
    "                 hour,                         # First layer time in hours\n",
    "                 resolution):                               \n",
    "\n",
    "        self.layer_time = hour * 60 ** 2       # First layer time in seconds\n",
    "        self.time_between_files = 3 * 60 ** 2  # Time between samples in seconds\n",
    "        self.total_time = 8 * 24 * 60 ** 2     # Full trajectory time in seconds\n",
    "        self.resolution = float(resolution)    # Degrees per grid square\n",
    "        self.sample = np.int(self.resolution // 0.25)  # Step to sample with\n",
    "\n",
    "        # Test that the argument is a valid hour.\n",
    "        if self.layer_time > self.total_time - self.time_between_files:\n",
    "            raise ValueError(\"Maximum value for hour argument is {}.\"\n",
    "                           .format((self.total_time - self.time_between_files)\n",
    "                                    / 60 ** 2))\n",
    "\n",
    "        if self.layer_time % self.time_between_files != 0:\n",
    "            raise ValueError(\"Hour argument must be a multiple of {}.\"\n",
    "                             .format(self.time_between_files))          \n",
    "\n",
    "        # Generate list of all filenames and index of current file\n",
    "        self.filenames = ['data/hgt-{:03d}.nc'.format(time) \n",
    "                for time in np.arange(0, \n",
    "                    np.int((self.total_time / (60 ** 2)) + 1), \n",
    "                    np.int(self.time_between_files / (60 ** 2)))]\n",
    "        self.file_index = np.int(self.layer_time / self.time_between_files)                 \n",
    "        \n",
    "        # Initialize values for interpolate function\n",
    "        self.points = self.build_points()\n",
    "        self.u_values = self.values(\"u\")\n",
    "        self.v_values = self.values(\"v\")\n",
    "        self.gh_values = self.values(\"gh\")\n",
    "        self.dgh_dlat_values, self.dgh_dlon_values = self.gh_gradient()\n",
    "        \n",
    "    def build_points(self):\n",
    "        \"\"\" Returns the first argument for the interpn function,\n",
    "        a tuple of 3 ndarrays of float, named points, \n",
    "        of shape ((nlats,), (nlons,), (ntimes)), \n",
    "        which stays constant throughout the trajectory.\n",
    "        \"\"\"\n",
    "        file = netcdf.netcdf_file(self.filenames[self.file_index], mmap=False)\n",
    "        vars = file.variables\n",
    "        file.close()\n",
    "\n",
    "        # Flip latitudes so they're increasing, (-90, 90).\n",
    "        latitudes = np.flip(vars['lat'][:], 0)   \n",
    "       \n",
    "        # Add the longitude 360 to deal with interpolation near 0 degrees.\n",
    "        longitudes = np.append(vars['lon'][:], 360)\n",
    "       \n",
    "        # Array of times has last and next sample times, or current and next.\n",
    "        times = np.array([self.layer_time, self.layer_time \n",
    "                          + self.time_between_files])\n",
    "        \n",
    "        # Sample from latitudes and longitudes based on given resolution\n",
    "        latitudes_sampled = latitudes[::self.sample]\n",
    "        longitudes_sampled = longitudes[::self.sample]\n",
    "\n",
    "        points = latitudes_sampled, longitudes_sampled, times\n",
    "        return points\n",
    "\n",
    "    def values(self, parameter):\n",
    "        \"\"\" Returns the second argument for the interpn function,\n",
    "        a 3D ndarray of float, named values, of shape (nlats, nlons, ntimes),\n",
    "        which is updated when the trajectory passes a new time layer.\n",
    "\n",
    "        parameter -- 'u', 'v', or 'gh'; the atmospheric parameter. \n",
    "        \"\"\"\n",
    "        \n",
    "        # Open first file and retrieve gridded values\n",
    "        file0 = netcdf.netcdf_file(self.filenames[self.file_index], mmap=False)\n",
    "        vars0 = file0.variables\n",
    "        file0.close()\n",
    "        t0_values = vars0[parameter][0][0]\n",
    "        t0_values = t0_values[:, :, np.newaxis]\n",
    "\n",
    "        # Open second file and retrieve gridded values\n",
    "        file1 = netcdf.netcdf_file(self.filenames[self.file_index + 1], \n",
    "                                   mmap=False)\n",
    "        vars1 = file1.variables\n",
    "        file1.close()\n",
    "        t1_values = vars1[parameter][0][0]\n",
    "        t1_values = t1_values[:, :, np.newaxis]\n",
    "\n",
    "        # Append values for both times along third dimension\n",
    "        t_values = np.append(t0_values, t1_values, axis=2)\n",
    "\n",
    "        # Copy 0th column to end for longitude 360\n",
    "        first_column = np.expand_dims(t_values[:, 0, :], axis=1)\n",
    "        t_values = np.concatenate((t_values, first_column), axis=1)\n",
    "\n",
    "        # Flip along latitude axis, to match points\n",
    "        t_values = np.flip(t_values, 0)\n",
    "\n",
    "        # Sample from latitudes and longitudes based on given resolution\n",
    "        t_values_sampled = t_values[::self.sample, ::self.sample, :]\n",
    "        return t_values_sampled\n",
    "\n",
    "    def gh_gradient(self):\n",
    "        \"\"\" Returns two 3D arrays of the same shape as gh_values, representing\n",
    "        gradient in latitude and longitude directions with length in radians.\n",
    "        \"\"\"\n",
    "        spacing_lat = (np.radians(180 / (np.size(self.points[0]) - 1))\n",
    "                        * self.sample)                                 # radians\n",
    "        spacing_lon = (np.radians(360 / (np.size(self.points[1]) - 1))\n",
    "                        * self.sample)                                 # radians\n",
    "        spacing_time = self.time_between_files                         # seconds\n",
    "\n",
    "        gradient_lat, gradient_lon, gradient_time = np.gradient(self.gh_values,\n",
    "            spacing_lat, spacing_lon, spacing_time)\n",
    "        return gradient_lat, gradient_lon"
   ]
  },
  {
   "cell_type": "markdown",
   "metadata": {},
   "source": [
    "The parcel class represents the position and atmospheric parameters for a parcel of air.\n",
    "    Latitude and longitude can be scalars, or, to represent multiple parcels,\n",
    "    lists of the same length."
   ]
  },
  {
   "cell_type": "code",
   "execution_count": 42,
   "metadata": {
    "collapsed": true
   },
   "outputs": [],
   "source": [
    "class Parcel:\n",
    "    \"\"\" Represents the position and atmospheric parameters for a parcel of air.\n",
    "    Latitude and longitude can be scalars, or, to represent multiple parcels,\n",
    "    lists of the same length.\n",
    "    \"\"\"\n",
    "    def __init__(self,\n",
    "                 atmosphere,        # Instance of class Atmosphere\n",
    "                 latitude,          # Latitude in degrees (-90, 90) \n",
    "                 longitude,         # Longitude in degrees (0, 360]) \n",
    "                 timestep):         # Timestep in seconds  \n",
    "        \n",
    "        self.lat = np.radians(np.array(latitude))\n",
    "        self.lon = np.radians(np.array(longitude))\n",
    "        self.atmosphere = atmosphere\n",
    "        self.timestep = timestep        # seconds \n",
    "\n",
    "        self.time = 0                   # seconds \n",
    "\n",
    "        self.trajectory_lat = np.nan * np.zeros(\n",
    "                                    (np.int(((self.atmosphere.total_time) \n",
    "                                    / self.timestep) + 1), np.size(self.lat)))\n",
    "        self.trajectory_lon = np.full_like(self.trajectory_lat, np.nan)\n",
    "\n",
    "        self.trajectory_u = np.full_like(self.trajectory_lat, np.nan)\n",
    "        self.trajectory_v = np.full_like(self.trajectory_lat, np.nan)\n",
    "        self.trajectory_gh = np.full_like(self.trajectory_lat, np.nan)\n",
    "        self.trajectory_du_dt = np.full_like(self.trajectory_lat, np.nan)\n",
    "        self.trajectory_dv_dt = np.full_like(self.trajectory_lat, np.nan)\n",
    "        \n",
    "        self.gh = self.interpolate(self.atmosphere.gh_values)\n",
    "        self.u = self.interpolate(self.atmosphere.u_values)\n",
    "        self.v = self.interpolate(self.atmosphere.v_values)                \n",
    "\n",
    "    def interpolate(self, interp_values):\n",
    "        \"\"\" Linear interpolation of u, v, or gh between two time layers of a\n",
    "        lat-lon grid. The interp_values parameter accepts u_values, g_values,\n",
    "        or gh_values from the Atmosphere class.\n",
    "        \"\"\"\n",
    "        xi_lat = np.degrees(self.lat)\n",
    "        xi_lon = np.degrees(self.lon) % 360\n",
    "        xi_times = np.full_like(self.lat, self.time)\n",
    "        xi = np.array([xi_lat, xi_lon, xi_times]).T\n",
    "        \n",
    "        interp_result = scipy.interpolate.interpn(self.atmosphere.points,\n",
    "                       interp_values, xi, bounds_error=False, fill_value=np.nan)\n",
    "        return interp_result\n",
    "\n",
    "    def calculate_trajectory(self):\n",
    "        \"\"\" Calculate the trajectory of parcels.\"\"\"   \n",
    "        # Start trajectory at initial position \n",
    "        self.trajectory_lat[0,:] = self.lat\n",
    "        self.trajectory_lon[0,:] = self.lon \n",
    "\n",
    "        # Start u and v at initial u and v\n",
    "        self.trajectory_u[0,:] = self.u\n",
    "        self.trajectory_v[0,:] = self.v        \n",
    "\n",
    "        i = 1                   # Index for timestep\n",
    "        layer_index = 0         # Index for instance of Atmosphere\n",
    "        next_layer_hour = 0     # Argument for next instance of Atmosphere\n",
    "        \n",
    "        while next_layer_hour < self.atmosphere.total_time / 60 ** 2:\n",
    "            self.atmosphere = Atmosphere(next_layer_hour, RESOLUTION)\n",
    "            for layer_step in np.arange(self.atmosphere.time_between_files \n",
    "                                        / self.timestep):\n",
    "\n",
    "                # Get gradient of geopotential height at initial position\n",
    "                self.gh = self.interpolate(self.atmosphere.gh_values)\n",
    "                dgh_dlat = self.interpolate(self.atmosphere.dgh_dlat_values)\n",
    "                dgh_dlon = self.interpolate(self.atmosphere.dgh_dlon_values)\n",
    "\n",
    "                # Find u0 and v0 at starting latitude and longitude\n",
    "                initial_u = self.u\n",
    "                initial_v = self.v\n",
    "\n",
    "                # Get geostrophic u and v\n",
    "                f = 2 * OMEGA * np.sin(self.lat)\n",
    "                u_g = ((-STANDARD_GRAVITY / f) * dgh_dlat * (1 / \n",
    "                    (EARTH_RADIUS + self.gh)))\n",
    "                v_g = ((STANDARD_GRAVITY / f) * dgh_dlon * (1 / \n",
    "                    ((EARTH_RADIUS + self.gh) * np.cos(self.lat))))\n",
    "\n",
    "                # Get friction terms\n",
    "                r_f = 10e-6\n",
    "                \n",
    "                # Terms use geostrophic velocity: unreasonable near equator\n",
    "                friction_u = - r_f * (initial_u - u_g)\n",
    "                friction_v = - r_f * (initial_v - v_g)\n",
    "\n",
    "                # Find guess_u and guess_v at guess position after timestep\n",
    "                du_dt = ((f * initial_v)\n",
    "                        - (1 / ((EARTH_RADIUS + self.gh) \n",
    "                            * np.cos(self.lat))) \n",
    "                            * STANDARD_GRAVITY * dgh_dlon + friction_u)\n",
    "                dv_dt = ((-f * initial_u)\n",
    "                        - (1 / (EARTH_RADIUS + self.gh)) \n",
    "                        * STANDARD_GRAVITY * dgh_dlat + friction_v)\n",
    "                guess_u = initial_u + du_dt * self.timestep\n",
    "                guess_v = initial_v + dv_dt * self.timestep\n",
    "\n",
    "                # Average initial and guess velocities\n",
    "                self.u = (initial_u + guess_u) / 2\n",
    "                self.v = (initial_v + guess_v) / 2\n",
    "\n",
    "                # Use timestep and u and v to get next trajectory position\n",
    "                dlat_dt = self.v / (EARTH_RADIUS + self.gh)\n",
    "                dlon_dt = self.u / ((EARTH_RADIUS + self.gh) \n",
    "                                    * np.cos(self.lat))\n",
    "                self.lat = self.lat + dlat_dt * self.timestep\n",
    "                self.lon = self.lon + dlon_dt * self.timestep\n",
    "\n",
    "                # Replace latitudes above pi/2 or below -pi/2\n",
    "                np.place(self.lat, self.lat > np.pi / 2, np.pi / 2)\n",
    "                np.place(self.lat, self.lat < -np.pi / 2, -np.pi / 2)\n",
    "\n",
    "                # Store position, speed, gh and acceleration in trajectory array\n",
    "                self.trajectory_lat[i,:] = self.lat\n",
    "                self.trajectory_lon[i,:] = self.lon\n",
    "                self.trajectory_u[i,:] = self.u\n",
    "                self.trajectory_v[i,:] = self.v\n",
    "                self.trajectory_gh[i,:] = self.gh\n",
    "                self.trajectory_du_dt[i,:] = du_dt\n",
    "                self.trajectory_dv_dt[i,:] = dv_dt\n",
    "\n",
    "                # Increment timestep and timestep index\n",
    "                self.time += self.timestep\n",
    "                i += 1\n",
    "\n",
    "            # Get new instance of Atmosphere for next time layer\n",
    "            layer_index += 1\n",
    "            next_layer_hour = layer_index * (\n",
    "                            self.atmosphere.time_between_files / (60 ** 2))\n",
    "\n",
    "        return self.trajectory_lat, self.trajectory_lon"
   ]
  },
  {
   "cell_type": "markdown",
   "metadata": {},
   "source": [
    "The Trajectory class contains of positions for each timestep along the trajectory. Methods are functions for plotting trajectories."
   ]
  },
  {
   "cell_type": "code",
   "execution_count": 47,
   "metadata": {},
   "outputs": [],
   "source": [
    "class Trajectory:\n",
    "    \"\"\" Lists of positions for each timestep along the trajectory.\"\"\"\n",
    "    def __init__(self,\n",
    "                 atmosphere,            # Instance of class Atmosphere\n",
    "                 parcel):               # Instance of class Parcel\n",
    "\n",
    "        self.parcel = parcel\n",
    "        self.atmosphere = atmosphere\n",
    "        self.latitudes, self.longitudes = np.degrees(\n",
    "                                             self.parcel.calculate_trajectory())\n",
    "\n",
    "        # Remove NaNs from arrays\n",
    "        self.latitudes = self.latitudes[np.isfinite(\n",
    "                                               self.latitudes[:,0]),:]\n",
    "        self.longitudes = self.longitudes[np.isfinite(\n",
    "                                               self.longitudes[:,0]),:]\n",
    "        self.trajectory_u = self.parcel.trajectory_u[np.isfinite(\n",
    "                                               self.latitudes[:,0]),:]\n",
    "        self.trajectory_v = self.parcel.trajectory_u[np.isfinite(\n",
    "                                               self.latitudes[:,0]),:]\n",
    "        self.trajectory_gh = self.parcel.trajectory_gh[np.isfinite(\n",
    "                                               self.latitudes[:,0]),:]\n",
    "\n",
    "    def plot_ortho(self, lat_center=90, lon_center=0):\n",
    "        \"\"\" Orthographic projection plot.\"\"\"\n",
    "        m = Basemap(projection='ortho', lon_0=lon_center, lat_0=lat_center, \n",
    "                        resolution='c')\n",
    "        m.drawcoastlines(linewidth=0.25, color='gray')\n",
    "        m.drawcountries(linewidth=0)\n",
    "        m.fillcontinents(color='white',lake_color='white', zorder=1)\n",
    "        # draw the edge of the map projection region (the projection limb)\n",
    "        #m.drawmapboundary(fill_color='white')\n",
    "        m.plot(self.longitudes, self.latitudes,\n",
    "                 latlon=True, zorder=2, color='black')\n",
    "        plt.show()\n",
    "        return m\n",
    "    \n",
    "    def plot_cyl(self, llcrnrlat=-90, urcrnrlat=90, llcrnrlon=-180, urcrnrlon=180):\n",
    "        m = Basemap(projection='cyl',llcrnrlat=llcrnrlat,urcrnrlat=urcrnrlat,\n",
    "            llcrnrlon=llcrnrlon,urcrnrlon=urcrnrlon,resolution='c')\n",
    "        m.drawcoastlines(linewidth=0.25, color='gray')\n",
    "        m.drawcountries(linewidth=0)\n",
    "        m.fillcontinents(color='white',lake_color='white', zorder=1)\n",
    "        m.drawmapboundary(fill_color='white')\n",
    "        # draw parallels\n",
    "        parallels = np.arange(-90, 90, 30.)\n",
    "        m.drawparallels(parallels, labels=[1,0,0,0], linewidth=0.25, fontsize=8)\n",
    "        # draw meridians\n",
    "        meridians = np.arange(0, 360., 60.)\n",
    "        m.drawmeridians(meridians, labels=[0,0,0,1], linewidth=0.25, fontsize=8)\n",
    "        m.plot(self.longitudes, self.latitudes,\n",
    "                 latlon=True, zorder=2, color='black')\n",
    "        plt.show()\n",
    "        return m"
   ]
  },
  {
   "cell_type": "markdown",
   "metadata": {},
   "source": [
    "Choose a starting latitude and longitude."
   ]
  },
  {
   "cell_type": "code",
   "execution_count": 57,
   "metadata": {
    "collapsed": true
   },
   "outputs": [],
   "source": [
    "lon = 60\n",
    "lat = 41"
   ]
  },
  {
   "cell_type": "markdown",
   "metadata": {},
   "source": [
    "Perform the trajectory calculation."
   ]
  },
  {
   "cell_type": "code",
   "execution_count": 58,
   "metadata": {},
   "outputs": [],
   "source": [
    "atmosphere = Atmosphere(0, RESOLUTION)\n",
    "parcel = Parcel(atmosphere, lat, lon, TIMESTEP)\n",
    "trajectory = Trajectory(atmosphere, parcel)"
   ]
  },
  {
   "cell_type": "markdown",
   "metadata": {},
   "source": [
    "Plot the trajectories."
   ]
  },
  {
   "cell_type": "code",
   "execution_count": 59,
   "metadata": {},
   "outputs": [
    {
     "name": "stderr",
     "output_type": "stream",
     "text": [
      "//anaconda/envs/py36/lib/python3.6/site-packages/mpl_toolkits/basemap/__init__.py:1623: MatplotlibDeprecationWarning: The get_axis_bgcolor function was deprecated in version 2.0. Use get_facecolor instead.\n",
      "  fill_color = ax.get_axis_bgcolor()\n",
      "//anaconda/envs/py36/lib/python3.6/site-packages/mpl_toolkits/basemap/__init__.py:1767: MatplotlibDeprecationWarning: The get_axis_bgcolor function was deprecated in version 2.0. Use get_facecolor instead.\n",
      "  axisbgc = ax.get_axis_bgcolor()\n",
      "//anaconda/envs/py36/lib/python3.6/site-packages/mpl_toolkits/basemap/__init__.py:3260: MatplotlibDeprecationWarning: The ishold function was deprecated in version 2.0.\n",
      "  b = ax.ishold()\n",
      "//anaconda/envs/py36/lib/python3.6/site-packages/mpl_toolkits/basemap/__init__.py:3269: MatplotlibDeprecationWarning: axes.hold is deprecated.\n",
      "    See the API Changes document (http://matplotlib.org/api/api_changes.html)\n",
      "    for more details.\n",
      "  ax.hold(b)\n"
     ]
    },
    {
     "data": {
      "image/png": "[encoded data removed]",
      "text/plain": [
       "<matplotlib.figure.Figure at 0x121b2ffd0>"
      ]
     },
     "metadata": {},
     "output_type": "display_data"
    },
    {
     "data": {
      "image/png": "[encoded data removed]",
      "text/plain": [
       "<matplotlib.figure.Figure at 0x111456160>"
      ]
     },
     "metadata": {},
     "output_type": "display_data"
    },
    {
     "data": {
      "text/plain": [
       "<mpl_toolkits.basemap.Basemap at 0x1114560f0>"
      ]
     },
     "execution_count": 59,
     "metadata": {},
     "output_type": "execute_result"
    }
   ],
   "source": [
    "trajectory.plot_ortho()\n",
    "trajectory.plot_cyl()"
   ]
  },
  {
   "cell_type": "code",
   "execution_count": null,
   "metadata": {
    "collapsed": true
   },
   "outputs": [],
   "source": []
  }
 ],
 "metadata": {
  "kernelspec": {
   "display_name": "Python [conda env:py36]",
   "language": "python",
   "name": "conda-env-py36-py"
  },
  "language_info": {
   "codemirror_mode": {
    "name": "ipython",
    "version": 3
   },
   "file_extension": ".py",
   "mimetype": "text/x-python",
   "name": "python",
   "nbconvert_exporter": "python",
   "pygments_lexer": "ipython3",
   "version": "3.6.2"
  }
 },
 "nbformat": 4,
 "nbformat_minor": 2
}
